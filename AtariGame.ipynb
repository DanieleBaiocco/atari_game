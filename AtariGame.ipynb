{
  "nbformat": 4,
  "nbformat_minor": 0,
  "metadata": {
    "colab": {
      "provenance": []
    },
    "kernelspec": {
      "name": "python3",
      "display_name": "Python 3"
    },
    "language_info": {
      "name": "python"
    }
  },
  "cells": [
    {
      "cell_type": "code",
      "source": [
        "!pip install gym[atari]\n",
        "!pip install autorom[accept-rom-license]"
      ],
      "metadata": {
        "colab": {
          "base_uri": "https://localhost:8080/"
        },
        "id": "moho4i-D4fJD",
        "outputId": "5fe85c0f-a5c2-4f0d-b9f3-43c7740a491a"
      },
      "execution_count": null,
      "outputs": [
        {
          "output_type": "stream",
          "name": "stdout",
          "text": [
            "Looking in indexes: https://pypi.org/simple, https://us-python.pkg.dev/colab-wheels/public/simple/\n",
            "Requirement already satisfied: gym[atari] in /usr/local/lib/python3.10/dist-packages (0.25.2)\n",
            "Requirement already satisfied: numpy>=1.18.0 in /usr/local/lib/python3.10/dist-packages (from gym[atari]) (1.22.4)\n",
            "Requirement already satisfied: cloudpickle>=1.2.0 in /usr/local/lib/python3.10/dist-packages (from gym[atari]) (2.2.1)\n",
            "Requirement already satisfied: gym-notices>=0.0.4 in /usr/local/lib/python3.10/dist-packages (from gym[atari]) (0.0.8)\n",
            "Requirement already satisfied: ale-py~=0.7.5 in /usr/local/lib/python3.10/dist-packages (from gym[atari]) (0.7.5)\n",
            "Requirement already satisfied: importlib-resources in /usr/local/lib/python3.10/dist-packages (from ale-py~=0.7.5->gym[atari]) (5.12.0)\n",
            "Looking in indexes: https://pypi.org/simple, https://us-python.pkg.dev/colab-wheels/public/simple/\n",
            "Requirement already satisfied: autorom[accept-rom-license] in /usr/local/lib/python3.10/dist-packages (0.6.1)\n",
            "Requirement already satisfied: click in /usr/local/lib/python3.10/dist-packages (from autorom[accept-rom-license]) (8.1.3)\n",
            "Requirement already satisfied: requests in /usr/local/lib/python3.10/dist-packages (from autorom[accept-rom-license]) (2.27.1)\n",
            "Requirement already satisfied: AutoROM.accept-rom-license in /usr/local/lib/python3.10/dist-packages (from autorom[accept-rom-license]) (0.6.1)\n",
            "Requirement already satisfied: urllib3<1.27,>=1.21.1 in /usr/local/lib/python3.10/dist-packages (from requests->autorom[accept-rom-license]) (1.26.16)\n",
            "Requirement already satisfied: certifi>=2017.4.17 in /usr/local/lib/python3.10/dist-packages (from requests->autorom[accept-rom-license]) (2023.5.7)\n",
            "Requirement already satisfied: charset-normalizer~=2.0.0 in /usr/local/lib/python3.10/dist-packages (from requests->autorom[accept-rom-license]) (2.0.12)\n",
            "Requirement already satisfied: idna<4,>=2.5 in /usr/local/lib/python3.10/dist-packages (from requests->autorom[accept-rom-license]) (3.4)\n"
          ]
        }
      ]
    },
    {
      "cell_type": "code",
      "execution_count": null,
      "metadata": {
        "id": "z6dQvfq64En5",
        "colab": {
          "base_uri": "https://localhost:8080/"
        },
        "outputId": "930d9f88-32a3-4a2f-d9d8-bfd2ad00aac4"
      },
      "outputs": [
        {
          "output_type": "stream",
          "name": "stderr",
          "text": [
            "/usr/local/lib/python3.10/dist-packages/jaxlib/xla_client.py:225: DeprecationWarning: ml_dtypes.float8_e4m3b11 is deprecated. Use ml_dtypes.float8_e4m3b11fnuz\n",
            "  float8_e4m3b11fnuz = ml_dtypes.float8_e4m3b11\n"
          ]
        }
      ],
      "source": [
        "%matplotlib inline\n",
        "\n",
        "import gym\n",
        "from gym.wrappers.record_video import RecordVideo\n",
        "import itertools\n",
        "import numpy as np\n",
        "import os\n",
        "import random\n",
        "import sys\n",
        "import matplotlib.pyplot as plt\n",
        "\n",
        "if \"../\" not in sys.path:\n",
        "  sys.path.append(\"../\")\n",
        "\n",
        "import tensorflow as tf\n",
        "from collections import deque, namedtuple"
      ]
    },
    {
      "cell_type": "code",
      "source": [
        "environment = gym.envs.make(\"Breakout-v4\", render_mode = 'rgb_array')"
      ],
      "metadata": {
        "colab": {
          "base_uri": "https://localhost:8080/"
        },
        "id": "6uWLeXCs4RiW",
        "outputId": "db2c79e1-91b5-4699-e22b-9ae3f9c41eee"
      },
      "execution_count": null,
      "outputs": [
        {
          "output_type": "stream",
          "name": "stderr",
          "text": [
            "/usr/local/lib/python3.10/dist-packages/ipykernel/ipkernel.py:283: DeprecationWarning: `should_run_async` will not call `transform_cell` automatically in the future. Please pass the result to `transformed_cell` argument and any exception that happen during thetransform in `preprocessing_exc_tuple` in IPython 7.17 and above.\n",
            "  and should_run_async(code)\n",
            "/usr/local/lib/python3.10/dist-packages/gym/core.py:317: DeprecationWarning: \u001b[33mWARN: Initializing wrapper in old step API which returns one bool instead of two. It is recommended to set `new_step_api=True` to use new step API. This will be the default behaviour in future.\u001b[0m\n",
            "  deprecation(\n",
            "/usr/local/lib/python3.10/dist-packages/gym/wrappers/step_api_compatibility.py:39: DeprecationWarning: \u001b[33mWARN: Initializing environment in old step API which returns one bool instead of two. It is recommended to set `new_step_api=True` to use new step API. This will be the default behaviour in future.\u001b[0m\n",
            "  deprecation(\n"
          ]
        }
      ]
    },
    {
      "cell_type": "code",
      "source": [
        "VALID_ACTIONS = list(range(environment.action_space.n))"
      ],
      "metadata": {
        "id": "9dKMq6mE4X7i"
      },
      "execution_count": null,
      "outputs": []
    },
    {
      "cell_type": "code",
      "source": [
        "def preprocess_images(imgs, offset_high = 34, offset_width = 0, target_height = 160, target_width = 160, output_dim = [84, 84], previous_state = None):\n",
        "      output = tf.image.rgb_to_grayscale(imgs)\n",
        "      output = tf.image.crop_to_bounding_box(output, offset_high, offset_width, target_height, target_width)\n",
        "      output = tf.image.resize(\n",
        "          output, output_dim, method=tf.image.ResizeMethod.NEAREST_NEIGHBOR)\n",
        "      output = tf.squeeze(output, axis=3)\n",
        "      if previous_state == None:\n",
        "        output = tf.stack([output] * 4, axis=3)\n",
        "      else:\n",
        "        output = tf.expand_dims(output, axis = 3)\n",
        "        output = tf.concat((previous_state[:, :, :,1:], output[:, :, :, :]) , axis=3)\n",
        "      return output"
      ],
      "metadata": {
        "id": "QE8SagcUl-C6"
      },
      "execution_count": null,
      "outputs": []
    },
    {
      "cell_type": "code",
      "source": [
        "input_dim = [ 84, 84, 4]\n",
        "input = tf.keras.layers.Input(shape=input_dim)\n",
        "x = tf.keras.layers.Conv2D(32, 8, 4, activation=tf.nn.relu)(input)\n",
        "x = tf.keras.layers.Conv2D(64, 4, 2, activation=tf.nn.relu)(x)\n",
        "x = tf.keras.layers.Conv2D(64, 3, 1, activation=tf.nn.relu)(x)\n",
        "x = tf.keras.layers.Flatten()(x)\n",
        "x = tf.keras.layers.Dense(512)(x)\n",
        "output = tf.keras.layers.Dense(len(VALID_ACTIONS))(x)\n",
        "qestimator = tf.keras.Model(inputs = input, outputs = output)\n",
        "targetestimator = tf.keras.Model(inputs = input, outputs = output)"
      ],
      "metadata": {
        "id": "wcUxiEINd1n0"
      },
      "execution_count": null,
      "outputs": []
    },
    {
      "cell_type": "code",
      "source": [
        "observation = environment.reset()\n",
        "observation = tf.expand_dims(observation, axis = 0)\n",
        "obs = preprocess_images(observation)\n",
        "for i in range(4):\n",
        "  plt.figure()\n",
        "  plt.imshow(obs[0, :,:,i])"
      ],
      "metadata": {
        "id": "6rm8kczWeUZR",
        "colab": {
          "base_uri": "https://localhost:8080/",
          "height": 1000
        },
        "outputId": "edbad0c2-0269-4625-9c21-34865f83a7c5"
      },
      "execution_count": null,
      "outputs": [
        {
          "output_type": "display_data",
          "data": {
            "text/plain": [
              "<Figure size 640x480 with 1 Axes>"
            ],
            "image/png": "[encoded data removed]"
          },
          "metadata": {}
        },
        {
          "output_type": "display_data",
          "data": {
            "text/plain": [
              "<Figure size 640x480 with 1 Axes>"
            ],
            "image/png": "[encoded data removed]"
          },
          "metadata": {}
        },
        {
          "output_type": "display_data",
          "data": {
            "text/plain": [
              "<Figure size 640x480 with 1 Axes>"
            ],
            "image/png": "[encoded data removed]"
          },
          "metadata": {}
        },
        {
          "output_type": "display_data",
          "data": {
            "text/plain": [
              "<Figure size 640x480 with 1 Axes>"
            ],
            "image/png": "[encoded data removed]"
          },
          "metadata": {}
        }
      ]
    },
    {
      "cell_type": "code",
      "source": [
        "print(qestimator.summary())"
      ],
      "metadata": {
        "colab": {
          "base_uri": "https://localhost:8080/"
        },
        "id": "FL7NOIi22DEc",
        "outputId": "adcb1bac-90e3-4c42-d72a-5c56beb1a360"
      },
      "execution_count": null,
      "outputs": [
        {
          "output_type": "stream",
          "name": "stdout",
          "text": [
            "Model: \"model\"\n",
            "_________________________________________________________________\n",
            " Layer (type)                Output Shape              Param #   \n",
            "=================================================================\n",
            " input_1 (InputLayer)        [(None, 84, 84, 4)]       0         \n",
            "                                                                 \n",
            " conv2d (Conv2D)             (None, 20, 20, 32)        8224      \n",
            "                                                                 \n",
            " conv2d_1 (Conv2D)           (None, 9, 9, 64)          32832     \n",
            "                                                                 \n",
            " conv2d_2 (Conv2D)           (None, 7, 7, 64)          36928     \n",
            "                                                                 \n",
            " flatten (Flatten)           (None, 3136)              0         \n",
            "                                                                 \n",
            " dense (Dense)               (None, 512)               1606144   \n",
            "                                                                 \n",
            " dense_1 (Dense)             (None, 4)                 2052      \n",
            "                                                                 \n",
            "=================================================================\n",
            "Total params: 1,686,180\n",
            "Trainable params: 1,686,180\n",
            "Non-trainable params: 0\n",
            "_________________________________________________________________\n",
            "None\n"
          ]
        }
      ]
    },
    {
      "cell_type": "code",
      "source": [
        "@tf.function\n",
        "def train_step(data, target, model, optimizer, loss_fn, batch_size, actions_taken):\n",
        "    with tf.GradientTape() as tape:\n",
        "        predictions = model(data, training=True)\n",
        "        general_indxs = tf.cast(tf.range(batch_size) * tf.shape(predictions)[1], np.int64)\n",
        "        gather_indices = general_indxs + actions_taken\n",
        "        action_predictions = tf.gather(tf.reshape(predictions, [-1]), gather_indices)\n",
        "        loss_value = loss_fn(target, action_predictions)\n",
        "    grads = tape.gradient(loss_value, model.trainable_weights)\n",
        "    print(\"ecco i gradienti da applicare \", grads)\n",
        "    optimizer.apply_gradients(zip(grads, model.trainable_weights))\n",
        "    print(loss_value)\n",
        "    return loss_value"
      ],
      "metadata": {
        "id": "EFkoulOJTHix"
      },
      "execution_count": null,
      "outputs": []
    },
    {
      "cell_type": "code",
      "source": [
        "def make_epsilon_greedy_policy(estimator, nA):\n",
        "    def policy_fn(observation, epsilon):\n",
        "        A = np.ones(nA, dtype=float) * epsilon / nA\n",
        "        q_values = estimator(observation)\n",
        "        best_action = np.argmax(q_values)\n",
        "        A[best_action] += (1.0 - epsilon)\n",
        "        return A\n",
        "    return policy_fn"
      ],
      "metadata": {
        "id": "cTFv6AHQkd-Q"
      },
      "execution_count": null,
      "outputs": []
    },
    {
      "cell_type": "code",
      "source": [
        "def set_directories(experiment_dir):\n",
        "    monitor_path = os.path.join(experiment_dir, \"monitor\")\n",
        "    if not os.path.exists(monitor_path):\n",
        "        os.makedirs(monitor_path)\n",
        "    return monitor_path"
      ],
      "metadata": {
        "id": "6fhG61WXt_G_"
      },
      "execution_count": null,
      "outputs": []
    },
    {
      "cell_type": "code",
      "source": [
        "def take_a_step(env, policy, curr_state,  timesteps_until_now, epsilon_decay_steps, epsilons, valid_actions):\n",
        "    epsilon = epsilons[min(timesteps_until_now, epsilon_decay_steps-1)]\n",
        "    action_probs = policy(curr_state, epsilon)\n",
        "    action = np.random.choice(np.arange(len(valid_actions)), p=action_probs)\n",
        "    next_state, reward, done, _ = env.step(valid_actions[action])\n",
        "    next_state = tf.expand_dims(next_state, axis = 0)\n",
        "    next_state = preprocess_images(next_state, previous_state = curr_state)\n",
        "    return action, next_state, reward, done"
      ],
      "metadata": {
        "id": "pOfDfTNgBJlU"
      },
      "execution_count": null,
      "outputs": []
    },
    {
      "cell_type": "code",
      "source": [
        "def reset_and_preprocess_env_state(env):\n",
        "    state = env.reset()\n",
        "    state = tf.expand_dims(state, axis = 0)\n",
        "    return preprocess_images(state)"
      ],
      "metadata": {
        "id": "oNIUAKesEw-L"
      },
      "execution_count": null,
      "outputs": []
    },
    {
      "cell_type": "code",
      "source": [
        "def fill_replay_memory(env,\n",
        "                      policy,\n",
        "                      timesteps_until_now_f,\n",
        "                      epsilon_decay_steps,\n",
        "                      epsilons,\n",
        "                      valid_actions,\n",
        "                      replay_memory_size):\n",
        "    replay_memory = []\n",
        "    state = reset_and_preprocess_env_state(env)\n",
        "    for i in range(replay_memory_size):\n",
        "        action, next_state, reward, done = take_a_step(env,\n",
        "                                                      policy,\n",
        "                                                      state,\n",
        "                                                      timesteps_until_now_f(),\n",
        "                                                      epsilon_decay_steps,\n",
        "                                                      epsilons,\n",
        "                                                      valid_actions)\n",
        "        replay_memory.append((state, action, reward, next_state, done))\n",
        "        if done:\n",
        "            state = reset_and_preprocess_env_state(env)\n",
        "        else:\n",
        "            state = next_state\n",
        "    return replay_memory"
      ],
      "metadata": {
        "id": "cvDu_WdEG1df"
      },
      "execution_count": null,
      "outputs": []
    },
    {
      "cell_type": "code",
      "source": [
        "def training_loop(num_episodes,\n",
        "                  env,\n",
        "                  targetestimator,\n",
        "                  qestimator,\n",
        "                  timesteps_until_now_f,\n",
        "                  update_target_estimator_every,\n",
        "                  policy,\n",
        "                  epsilon_decay_steps,\n",
        "                  epsilons,\n",
        "                  valid_actions,\n",
        "                  replay_memory,\n",
        "                  replay_memory_size,\n",
        "                  batch_size,\n",
        "                  discount_factor,\n",
        "                  optimizer):\n",
        "    for i_episode in range(num_episodes):\n",
        "          state = reset_and_preprocess_env_state(env)\n",
        "          loss = None\n",
        "          for t in itertools.count():\n",
        "              if timesteps_until_now_f() % update_target_estimator_every == 0:\n",
        "                  targetestimator.set_weights(qestimator.get_weights())\n",
        "              print(\"\\rStep {} ({}) @ Episode {}/{}, loss: {}\".format(\n",
        "                      t, timesteps_until_now_f(), i_episode + 1, num_episodes, loss), end=\"\")\n",
        "              if len(replay_memory) == replay_memory_size:\n",
        "                  replay_memory.pop(0)\n",
        "              action, next_state, reward, done = take_a_step(env, policy, state,  timesteps_until_now_f(), epsilon_decay_steps, epsilons, valid_actions)\n",
        "              replay_memory.append((state, action, reward, next_state, done))\n",
        "              samples = random.sample(replay_memory, batch_size)\n",
        "              states_batch, action_batch, reward_batch, next_states_batch, done_batch = map(np.array, zip(*samples))\n",
        "              states_batch = tf.squeeze(states_batch, axis = 1)\n",
        "              next_states_batch =  tf.squeeze(next_states_batch, axis = 1)\n",
        "              q_values_next = targetestimator(next_states_batch)\n",
        "              targets_batch = reward_batch + np.invert(done_batch).astype(np.float32) * discount_factor * np.amax(q_values_next, axis=1)\n",
        "              loss = train_step(states_batch, targets_batch, qestimator, optimizer, loss_fn, batch_size, action_batch)\n",
        "              if done:\n",
        "                  break\n",
        "              state = next_state"
      ],
      "metadata": {
        "id": "lj5Oj2WBUbQC"
      },
      "execution_count": null,
      "outputs": []
    },
    {
      "cell_type": "code",
      "source": [
        "def qlearning(qestimator,\n",
        "              targetestimator,\n",
        "              optimizer,\n",
        "              env,\n",
        "              loss_fn,\n",
        "              valid_actions,\n",
        "              experiment_dir,\n",
        "              batch_size=64,\n",
        "              discount_factor=0.99,\n",
        "              num_episodes=430,\n",
        "              record_video_every = 50,\n",
        "              replay_memory_init_size=32000,\n",
        "              epsilon_start=1.0,\n",
        "              epsilon_end=0.1,\n",
        "              epsilon_decay_steps=100000,\n",
        "              update_target_estimator_every=10000,\n",
        "              replay_memory_size=42000):\n",
        "    targetestimator.set_weights(qestimator.get_weights())\n",
        "    monitor_path = set_directories(experiment_dir)\n",
        "    timesteps_until_now_f = lambda : optimizer.iterations.numpy()\n",
        "    epsilons = np.linspace(epsilon_start, epsilon_end, epsilon_decay_steps)\n",
        "    policy = make_epsilon_greedy_policy(\n",
        "        qestimator,\n",
        "        len(valid_actions))\n",
        "    replay_memory = fill_replay_memory(env,\n",
        "                                      policy,\n",
        "                                      timesteps_until_now_f,\n",
        "                                      epsilon_decay_steps,\n",
        "                                      epsilons,\n",
        "                                      valid_actions,\n",
        "                                      replay_memory_init_size)\n",
        "    print(\"REPLAY MEMORY IS FILLED NOW\")\n",
        "    env = RecordVideo(env, video_folder = os.path.join(monitor_path, \"video\"),  episode_trigger = lambda episode_number: episode_number % record_video_every == 0)\n",
        "    training_loop(num_episodes,\n",
        "                  env,\n",
        "                  targetestimator,\n",
        "                  qestimator,\n",
        "                  timesteps_until_now_f,\n",
        "                  update_target_estimator_every,\n",
        "                  policy,\n",
        "                  epsilon_decay_steps,\n",
        "                  epsilons,\n",
        "                  valid_actions,\n",
        "                  replay_memory,\n",
        "                  replay_memory_size,\n",
        "                  batch_size,\n",
        "                  discount_factor,\n",
        "                  optimizer)\n",
        "    env.close()\n",
        "    return \"VIVA LA FIGA\""
      ],
      "metadata": {
        "id": "t_yXAuIBdxco"
      },
      "execution_count": null,
      "outputs": []
    },
    {
      "cell_type": "code",
      "source": [
        "optimizer = tf.keras.optimizers.RMSprop(0.00025, 0.99, 0.0, 1e-6)\n",
        "loss_fn = tf.keras.losses.MeanSquaredError()\n",
        "experiment_dir = os.path.abspath(\"./experiments/{}\".format(environment.spec.id))\n",
        "\n",
        "qlearning(qestimator, targetestimator, optimizer, environment, loss_fn, VALID_ACTIONS, experiment_dir)\n"
      ],
      "metadata": {
        "id": "DBW0wIzM64mC",
        "colab": {
          "base_uri": "https://localhost:8080/"
        },
        "outputId": "8c986160-84fb-45bf-fdf5-cfe13801ec50"
      },
      "execution_count": null,
      "outputs": [
        {
          "output_type": "stream",
          "name": "stderr",
          "text": [
            "/usr/local/lib/python3.10/dist-packages/gym/utils/passive_env_checker.py:227: DeprecationWarning: \u001b[33mWARN: Core environment is written in old step API which returns one bool instead of two. It is recommended to rewrite the environment with new step API. \u001b[0m\n",
            "  logger.deprecation(\n"
          ]
        },
        {
          "output_type": "stream",
          "name": "stdout",
          "text": [
            "REPLAY MEMORY IS FILLED NOW\n"
          ]
        },
        {
          "output_type": "stream",
          "name": "stderr",
          "text": [
            "/usr/local/lib/python3.10/dist-packages/gym/wrappers/record_video.py:78: UserWarning: \u001b[33mWARN: Overwriting existing videos at /content/experiments/Breakout-v4/monitor/video folder (try specifying a different `video_folder` for the `RecordVideo` wrapper if this is not desired)\u001b[0m\n",
            "  logger.warn(\n",
            "/usr/local/lib/python3.10/dist-packages/gym/wrappers/monitoring/video_recorder.py:78: DeprecationWarning: \u001b[33mWARN: Recording ability for environment Breakout-v4 initialized with `render_mode=None` is marked as deprecated and will be removed in the future.\u001b[0m\n",
            "  logger.deprecation(\n",
            "/usr/local/lib/python3.10/dist-packages/gym/core.py:43: DeprecationWarning: \u001b[33mWARN: The argument mode in render method is deprecated; use render_mode during environment initialization instead.\n",
            "See here for more information: https://www.gymlibrary.ml/content/api/\u001b[0m\n",
            "  deprecation(\n",
            "/usr/local/lib/python3.10/dist-packages/gym/utils/passive_env_checker.py:297: UserWarning: \u001b[33mWARN: No render fps was declared in the environment (env.metadata['render_fps'] is None or not defined), rendering may occur at inconsistent fps.\u001b[0m\n",
            "  logger.warn(\n"
          ]
        },
        {
          "output_type": "stream",
          "name": "stdout",
          "text": [
            "\rStep 0 (0) @ Episode 1/430, loss: None"
          ]
        },
        {
          "output_type": "stream",
          "name": "stderr",
          "text": [
            "/usr/local/lib/python3.10/dist-packages/gym/core.py:43: DeprecationWarning: \u001b[33mWARN: The argument mode in render method is deprecated; use render_mode during environment initialization instead.\n",
            "See here for more information: https://www.gymlibrary.ml/content/api/\u001b[0m\n",
            "  deprecation(\n"
          ]
        },
        {
          "output_type": "stream",
          "name": "stdout",
          "text": [
            "ecco i gradienti da applicare  [<tf.Tensor 'gradient_tape/model/conv2d/Conv2D/Conv2DBackpropFilter:0' shape=(8, 8, 4, 32) dtype=float32>, <tf.Tensor 'gradient_tape/model/conv2d/BiasAdd/BiasAddGrad:0' shape=(32,) dtype=float32>, <tf.Tensor 'gradient_tape/model/conv2d_1/Conv2D/Conv2DBackpropFilter:0' shape=(4, 4, 32, 64) dtype=float32>, <tf.Tensor 'gradient_tape/model/conv2d_1/BiasAdd/BiasAddGrad:0' shape=(64,) dtype=float32>, <tf.Tensor 'gradient_tape/model/conv2d_2/Conv2D/Conv2DBackpropFilter:0' shape=(3, 3, 64, 64) dtype=float32>, <tf.Tensor 'gradient_tape/model/conv2d_2/BiasAdd/BiasAddGrad:0' shape=(64,) dtype=float32>, <tf.Tensor 'gradient_tape/model/dense/MatMul/MatMul_1:0' shape=(3136, 512) dtype=float32>, <tf.Tensor 'gradient_tape/model/dense/BiasAdd/BiasAddGrad:0' shape=(512,) dtype=float32>, <tf.Tensor 'gradient_tape/model/dense_1/MatMul/MatMul_1:0' shape=(512, 4) dtype=float32>, <tf.Tensor 'gradient_tape/model/dense_1/BiasAdd/BiasAddGrad:0' shape=(4,) dtype=float32>]\n",
            "Tensor(\"mean_squared_error/weighted_loss/value:0\", shape=(), dtype=float32)\n",
            "ecco i gradienti da applicare  [<tf.Tensor 'gradient_tape/model/conv2d/Conv2D/Conv2DBackpropFilter:0' shape=(8, 8, 4, 32) dtype=float32>, <tf.Tensor 'gradient_tape/model/conv2d/BiasAdd/BiasAddGrad:0' shape=(32,) dtype=float32>, <tf.Tensor 'gradient_tape/model/conv2d_1/Conv2D/Conv2DBackpropFilter:0' shape=(4, 4, 32, 64) dtype=float32>, <tf.Tensor 'gradient_tape/model/conv2d_1/BiasAdd/BiasAddGrad:0' shape=(64,) dtype=float32>, <tf.Tensor 'gradient_tape/model/conv2d_2/Conv2D/Conv2DBackpropFilter:0' shape=(3, 3, 64, 64) dtype=float32>, <tf.Tensor 'gradient_tape/model/conv2d_2/BiasAdd/BiasAddGrad:0' shape=(64,) dtype=float32>, <tf.Tensor 'gradient_tape/model/dense/MatMul/MatMul_1:0' shape=(3136, 512) dtype=float32>, <tf.Tensor 'gradient_tape/model/dense/BiasAdd/BiasAddGrad:0' shape=(512,) dtype=float32>, <tf.Tensor 'gradient_tape/model/dense_1/MatMul/MatMul_1:0' shape=(512, 4) dtype=float32>, <tf.Tensor 'gradient_tape/model/dense_1/BiasAdd/BiasAddGrad:0' shape=(4,) dtype=float32>]\n",
            "Tensor(\"mean_squared_error/weighted_loss/value:0\", shape=(), dtype=float32)\n",
            "Step 334 (13367) @ Episode 50/430, loss: 131625.8125"
          ]
        },
        {
          "output_type": "stream",
          "name": "stderr",
          "text": [
            "/usr/local/lib/python3.10/dist-packages/gym/wrappers/monitoring/video_recorder.py:78: DeprecationWarning: \u001b[33mWARN: Recording ability for environment Breakout-v4 initialized with `render_mode=None` is marked as deprecated and will be removed in the future.\u001b[0m\n",
            "  logger.deprecation(\n",
            "/usr/local/lib/python3.10/dist-packages/gym/core.py:43: DeprecationWarning: \u001b[33mWARN: The argument mode in render method is deprecated; use render_mode during environment initialization instead.\n",
            "See here for more information: https://www.gymlibrary.ml/content/api/\u001b[0m\n",
            "  deprecation(\n"
          ]
        },
        {
          "output_type": "stream",
          "name": "stdout",
          "text": [
            "Step 105 (13710) @ Episode 52/430, loss: 60358.73828125"
          ]
        }
      ]
    }
  ]
}